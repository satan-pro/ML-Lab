{
 "cells": [
  {
   "cell_type": "code",
   "execution_count": 41,
   "id": "dedb6ac7",
   "metadata": {},
   "outputs": [
    {
     "name": "stdout",
     "output_type": "stream",
     "text": [
      "[[0 1 2]\n",
      " [3 4 5]\n",
      " [6 7 8]]\n"
     ]
    }
   ],
   "source": [
    "import numpy as np\n",
    "\n",
    "# Question 1\n",
    "\n",
    "a = np.arange(9)\n",
    "a = a.reshape(3,3)\n",
    "print(a)"
   ]
  },
  {
   "cell_type": "code",
   "execution_count": null,
   "id": "2205cfff",
   "metadata": {},
   "outputs": [],
   "source": [
    "# Question 2\n",
    "\n",
    "a = np.arange(10)\n",
    "for i in range(len(a)):\n",
    "    a[i]=-1 if(a[i]%2==1) else a[i]\n",
    "print(a)"
   ]
  },
  {
   "cell_type": "code",
   "execution_count": 22,
   "id": "a7a78c04",
   "metadata": {},
   "outputs": [
    {
     "name": "stdout",
     "output_type": "stream",
     "text": [
      "(array([0, 1, 2, 4, 7, 8, 9]),)\n",
      "(array([], dtype=int64),)\n"
     ]
    }
   ],
   "source": [
    "# Question 3\n",
    "\n",
    "#x = np.array([21, 64, 86, 22, 74, 55, 81, 79, 90, 89]) \n",
    "#y = np.array([21, 7, 3, 45, 10, 29, 55, 4, 37, 18])\n",
    "\n",
    "x = np.random.randint(0,100,10)\n",
    "y = np.random.randint(0,100,10)\n",
    "\n",
    "print(np.where(x>y))\n",
    "print(np.where(x==y))"
   ]
  },
  {
   "cell_type": "code",
   "execution_count": 18,
   "id": "1dbe300d",
   "metadata": {},
   "outputs": [
    {
     "name": "stdout",
     "output_type": "stream",
     "text": [
      "[[ 0  1  2  3]\n",
      " [20 21 22 23]\n",
      " [40 41 42 43]\n",
      " [60 61 62 63]\n",
      " [80 81 82 83]]\n"
     ]
    }
   ],
   "source": [
    "# Question 4\n",
    "\n",
    "a = np.arange(100).reshape(5,-1)\n",
    "print(a[:,:4])"
   ]
  },
  {
   "cell_type": "code",
   "execution_count": 20,
   "id": "b2a3a65b",
   "metadata": {},
   "outputs": [
    {
     "name": "stdout",
     "output_type": "stream",
     "text": [
      "[31 33 31 30 32 31 36 37 39 30]\n"
     ]
    }
   ],
   "source": [
    "# Additional 1\n",
    "\n",
    "print(np.random.randint(30,41,10))"
   ]
  },
  {
   "cell_type": "code",
   "execution_count": 37,
   "id": "a671065e",
   "metadata": {},
   "outputs": [
    {
     "name": "stdout",
     "output_type": "stream",
     "text": [
      "A+B: [[ 8 10 13]\n",
      " [ 8 10 12]\n",
      " [ 8 10 13]]\n",
      "A-B: [[-6 -6 -7]\n",
      " [ 0  0  0]\n",
      " [ 6  6  7]]\n",
      "Sum of Matrix A: 46\n",
      "Sum of Columns of Matrix B: [12 15 19]\n",
      "Sum of rows of Matrix C: [31 30 31]\n",
      "A*B: [[ 7 16 30]\n",
      " [16 25 36]\n",
      " [ 7 16 30]]\n",
      "Sort C: [[ 8 10 13]\n",
      " [ 8 10 12]\n",
      " [ 8 10 13]]\n",
      "Transpose E: [[ 8  8  8]\n",
      " [10 10 10]\n",
      " [13 12 13]]\n"
     ]
    }
   ],
   "source": [
    "# Additonal 2\n",
    "\n",
    "a = np.array([(1,2,3),(4,5,6),(7,8,10)])\n",
    "b = a[::-1,:]\n",
    "c = a+b\n",
    "e = a-b\n",
    "print(\"A+B:\",c)\n",
    "print(\"A-B:\",e)\n",
    "print(\"Sum of Matrix A:\",np.sum(a))\n",
    "print(\"Sum of Columns of Matrix B:\", np.sum(b,axis=0))\n",
    "print(\"Sum of rows of Matrix C:\", np.sum(c,axis=1))\n",
    "d = a*b\n",
    "print(\"A*B:\",d)\n",
    "e = np.sort(c, axis=1)\n",
    "print(\"Sort C:\",e)\n",
    "print(\"Transpose E:\",e.transpose())"
   ]
  },
  {
   "cell_type": "code",
   "execution_count": null,
   "id": "840a6fc4",
   "metadata": {},
   "outputs": [],
   "source": []
  }
 ],
 "metadata": {
  "kernelspec": {
   "display_name": "Python 3 (ipykernel)",
   "language": "python",
   "name": "python3"
  },
  "language_info": {
   "codemirror_mode": {
    "name": "ipython",
    "version": 3
   },
   "file_extension": ".py",
   "mimetype": "text/x-python",
   "name": "python",
   "nbconvert_exporter": "python",
   "pygments_lexer": "ipython3",
   "version": "3.12.3"
  }
 },
 "nbformat": 4,
 "nbformat_minor": 5
}
